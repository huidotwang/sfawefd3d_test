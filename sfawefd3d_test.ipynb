{
 "metadata": {
  "name": "",
  "signature": "sha256:13c935c5ce5a35be0a3731f951b7ad89535a01a06a47e34ca66973267bc52bc0"
 },
 "nbformat": 3,
 "nbformat_minor": 0,
 "worksheets": [
  {
   "cells": [
    {
     "cell_type": "code",
     "collapsed": false,
     "input": [
      "import numpy as np\n",
      "import matplotlib.pyplot as plt\n",
      "from numpy.linalg import norm\n",
      "import os\n",
      "\n",
      "%matplotlib inline\n"
     ],
     "language": "python",
     "metadata": {},
     "outputs": [],
     "prompt_number": 89
    },
    {
     "cell_type": "markdown",
     "metadata": {},
     "source": [
      "Ricker wavelet\n",
      "$$\n",
      "S_{r}(t) = (1-2 \\pi^2 f^2 t^2) e^{-\\pi^2 f^2 t^2}.\n",
      "$$\n",
      "where $f$ is given in Hz."
     ]
    },
    {
     "cell_type": "code",
     "collapsed": false,
     "input": [
      "def ricker(t, f):\n",
      "    w = 2.0 * np.pi * f\n",
      "    v = w**2 * t**2\n",
      "    return (1.0 - 0.5 * v) * np.exp(-0.25 * v)\n"
     ],
     "language": "python",
     "metadata": {},
     "outputs": [],
     "prompt_number": 90
    },
    {
     "cell_type": "code",
     "collapsed": false,
     "input": [
      "N = 1000\n",
      "T = 1.0\n",
      "dt = T / N\n",
      "t = np.linspace(0.0, T, N)\n",
      "f = 5.0\n",
      "shift = -0.24"
     ],
     "language": "python",
     "metadata": {},
     "outputs": [],
     "prompt_number": 91
    },
    {
     "cell_type": "markdown",
     "metadata": {},
     "source": [
      "Plotting Rickker's pulse, shifted by 240 ms:"
     ]
    },
    {
     "cell_type": "code",
     "collapsed": false,
     "input": [
      "plt.plot(t, ricker(t+shift, f))"
     ],
     "language": "python",
     "metadata": {},
     "outputs": [
      {
       "metadata": {},
       "output_type": "pyout",
       "prompt_number": 92,
       "text": [
        "[<matplotlib.lines.Line2D at 0x7fc58df079d0>]"
       ]
      },
      {
       "metadata": {},
       "output_type": "display_data",
       "png": "[encoded data removed]",
       "text": [
        "<matplotlib.figure.Figure at 0x7fc58e017b10>"
       ]
      }
     ],
     "prompt_number": 92
    },
    {
     "cell_type": "markdown",
     "metadata": {},
     "source": [
      "Let uo consider Green's function for wave equation in a free-space, that is\n",
      "$$\n",
      "G(x, x', t, t') = \\frac{\\delta((t-t') - \\frac{|r-r'|}{c})}{4 \\pi |r-r'|},\n",
      "$$\n",
      "and the solution for point source with the source wavelet $S(t)$, source position $r'=(x',y',z')$, receiver position at $r=(x,y,z)$\n",
      "$$\n",
      "u_G(R,\\tau) = \\frac{S(\\tau-R/c)}{4 \\pi R} ,\n",
      "$$\n",
      "where\n",
      "$$\n",
      "\\tau=t-t', R=|r-r'|.\n",
      "$$"
     ]
    },
    {
     "cell_type": "code",
     "collapsed": false,
     "input": [
      "np.savetxt('impulse.txt', ricker(t+shift, f), fmt='%1.7e')"
     ],
     "language": "python",
     "metadata": {},
     "outputs": [],
     "prompt_number": 93
    },
    {
     "cell_type": "code",
     "collapsed": false,
     "input": [
      "def u_G(t, f, r, s, c):\n",
      "    N = t.shape[0]\n",
      "    d1 = norm(r - s)\n",
      "    dt = t - d1 / c\n",
      "    return ricker(dt, f) / (4.0 * np.pi * d1)"
     ],
     "language": "python",
     "metadata": {},
     "outputs": [],
     "prompt_number": 94
    },
    {
     "cell_type": "code",
     "collapsed": false,
     "input": [
      "s = np.array([0.0, 0.0, 50.0])\n",
      "r = np.array([100.0, 0.0, 50.0])\n",
      "c = 4000.0"
     ],
     "language": "python",
     "metadata": {},
     "outputs": [],
     "prompt_number": 95
    },
    {
     "cell_type": "markdown",
     "metadata": {},
     "source": [
      "Plotting theoretical solution for the free space:"
     ]
    },
    {
     "cell_type": "code",
     "collapsed": false,
     "input": [
      "plt.plot(t, u_G(t+shift, f, r, s, c))"
     ],
     "language": "python",
     "metadata": {},
     "outputs": [
      {
       "metadata": {},
       "output_type": "pyout",
       "prompt_number": 96,
       "text": [
        "[<matplotlib.lines.Line2D at 0x7fc58de3f750>]"
       ]
      },
      {
       "metadata": {},
       "output_type": "display_data",
       "png": "[encoded data removed]",
       "text": [
        "<matplotlib.figure.Figure at 0x7fc58df3ab10>"
       ]
      }
     ],
     "prompt_number": 96
    },
    {
     "cell_type": "code",
     "collapsed": false,
     "input": [
      "h = 10\n",
      "nx = 200\n",
      "ny = 200\n",
      "nz = 200\n",
      "ox = -1000\n",
      "oy = -1000\n",
      "oz = -1000"
     ],
     "language": "python",
     "metadata": {},
     "outputs": [],
     "prompt_number": 97
    },
    {
     "cell_type": "code",
     "collapsed": false,
     "input": [
      "def madagascar(free='n'):\n",
      "    cmd = 'sfmath > vel.rsf output=%s n1=%s n2=%s n3=%s d1=%s d2=%s d3=%s o2=%s o3=%s o1=%s' % (c, nz, ny, nx, h, h, h, oy, ox, oz)\n",
      "    print cmd\n",
      "    os.system(cmd)\n",
      "    os.system('sfspike n1=3 nsp=3 k1=1,2,3 mag=%s,%s,%s o1=0 o2=0 o3=0 > sou.rsf' % (s[0], s[1], s[2]))\n",
      "    os.system('sfspike n1=3 nsp=3 k1=1,2,3 mag=%s,%s,%s o1=0 o2=0 o3=0 > rec.rsf' % (r[0], r[1], r[2]))\n",
      "    os.system('echo in=impulse.txt n1=1 n2=%s data_format=ascii_float | sfdd form=native | sfput n1=1 n2=%s d2=%s o1=0 label1=\"Time\" unit1=\"s\" > impulse.rsf' % (N, N, dt))\n",
      "    cmd = 'sfawefd3d < impulse.rsf vel=vel.rsf sou=sou.rsf rec=rec.rsf > dat.rsf verb=y free=%s expl=n snap=y dabc=y jdata=1 jsnap=80000 nbell=1 sinc=y' % free\n",
      "    print cmd\n",
      "    os.system(cmd)\n",
      "    os.system('sfdisfil > dat.asc col=1 format=\"%e \" number=n < dat.rsf')\n",
      "    "
     ],
     "language": "python",
     "metadata": {},
     "outputs": [],
     "prompt_number": 98
    },
    {
     "cell_type": "code",
     "collapsed": false,
     "input": [
      "madagascar()"
     ],
     "language": "python",
     "metadata": {},
     "outputs": [
      {
       "output_type": "stream",
       "stream": "stdout",
       "text": [
        "sfmath > vel.rsf output=4000.0 n1=200 n2=200 n3=200 d1=10 d2=10 d3=10 o2=-1000 o3=-1000 o1=-1000\n",
        "sfawefd3d < impulse.rsf vel=vel.rsf sou=sou.rsf rec=rec.rsf > dat.rsf verb=y free=n expl=n snap=y dabc=y jdata=1 jsnap=80000 nbell=1 sinc=y"
       ]
      },
      {
       "output_type": "stream",
       "stream": "stdout",
       "text": [
        "\n"
       ]
      }
     ],
     "prompt_number": 99
    },
    {
     "cell_type": "code",
     "collapsed": false,
     "input": [
      "u_m = np.loadtxt('dat.asc') * c**2 / h**3\n",
      "u_g = u_G(t+shift, f, r, s, c)"
     ],
     "language": "python",
     "metadata": {},
     "outputs": [],
     "prompt_number": 100
    },
    {
     "cell_type": "markdown",
     "metadata": {},
     "source": [
      "The nexT figure compares Madagascar solution with Green's solution in the free-space:"
     ]
    },
    {
     "cell_type": "code",
     "collapsed": false,
     "input": [
      "plt.plot(t, u_g)\n",
      "plt.plot(t, u_m)"
     ],
     "language": "python",
     "metadata": {},
     "outputs": [
      {
       "metadata": {},
       "output_type": "pyout",
       "prompt_number": 101,
       "text": [
        "[<matplotlib.lines.Line2D at 0x7fc58de83090>]"
       ]
      },
      {
       "metadata": {},
       "output_type": "display_data",
       "png": "[encoded data removed]",
       "text": [
        "<matplotlib.figure.Figure at 0x7fc58de830d0>"
       ]
      }
     ],
     "prompt_number": 101
    },
    {
     "cell_type": "code",
     "collapsed": false,
     "input": [
      "err = norm(u_m-u_g)/norm(u_g)*100.0\n",
      "print 'Error: %s %%' % err"
     ],
     "language": "python",
     "metadata": {},
     "outputs": [
      {
       "output_type": "stream",
       "stream": "stdout",
       "text": [
        "Error: 1.14209746458 %\n"
       ]
      }
     ],
     "prompt_number": 102
    },
    {
     "cell_type": "markdown",
     "metadata": {},
     "source": [
      "Now consider the half space: air ($z<=0$) plus Earth ($z>0$).\n",
      "\n",
      "Solution for the point source with source wavelet $S(t)$, source position $r'=(x',y',z')$ and receiver position $r=(x,y,z)$ is\n",
      "$$\n",
      "u_G(R,\\tau) = \\frac{S(\\tau-R/c)}{4 \\pi R} - \\frac{S(\\tau-R_1/c)}{4 \\pi R_1},\n",
      "$$\n",
      "where\n",
      "$$\n",
      "\\tau=t-t', R=|r-r'|, R_1=|r-r_1|, r_1=(x',y',-z').\n",
      "$$"
     ]
    },
    {
     "cell_type": "code",
     "collapsed": false,
     "input": [
      "u_gf = u_G(t+shift, f, r, s, c) - u_G(t+shift, f, r, np.array([s[0], s[1], -s[2]]), c)"
     ],
     "language": "python",
     "metadata": {},
     "outputs": [],
     "prompt_number": 103
    },
    {
     "cell_type": "markdown",
     "metadata": {},
     "source": [
      "Plotting this theoretical solution we get:"
     ]
    },
    {
     "cell_type": "code",
     "collapsed": false,
     "input": [
      "plt.plot(t, u_gf)\n"
     ],
     "language": "python",
     "metadata": {},
     "outputs": [
      {
       "metadata": {},
       "output_type": "pyout",
       "prompt_number": 104,
       "text": [
        "[<matplotlib.lines.Line2D at 0x7fc58dd0e490>]"
       ]
      },
      {
       "metadata": {},
       "output_type": "display_data",
       "png": "[encoded data removed]",
       "text": [
        "<matplotlib.figure.Figure at 0x7fc58e059e50>"
       ]
      }
     ],
     "prompt_number": 104
    },
    {
     "cell_type": "code",
     "collapsed": false,
     "input": [
      "h = 10.0\n",
      "nx = 200\n",
      "ny = 200\n",
      "nz = 100\n",
      "ox = -500\n",
      "oy = -500\n",
      "oz = h/2"
     ],
     "language": "python",
     "metadata": {},
     "outputs": [],
     "prompt_number": 105
    },
    {
     "cell_type": "code",
     "collapsed": false,
     "input": [
      "madagascar('y')"
     ],
     "language": "python",
     "metadata": {},
     "outputs": [
      {
       "output_type": "stream",
       "stream": "stdout",
       "text": [
        "sfmath > vel.rsf output=4000.0 n1=100 n2=200 n3=200 d1=10.0 d2=10.0 d3=10.0 o2=-500 o3=-500 o1=5.0\n",
        "sfawefd3d < impulse.rsf vel=vel.rsf sou=sou.rsf rec=rec.rsf > dat.rsf verb=y free=y expl=n snap=y dabc=y jdata=1 jsnap=80000 nbell=1 sinc=y"
       ]
      },
      {
       "output_type": "stream",
       "stream": "stdout",
       "text": [
        "\n"
       ]
      }
     ],
     "prompt_number": 106
    },
    {
     "cell_type": "markdown",
     "metadata": {},
     "source": [
      "Now we compare Madagascar solution with the theoretical solution. In the code below oz denotes the shift of the madagascar mesh along Z-direction, h is the grid step size.\n"
     ]
    },
    {
     "cell_type": "code",
     "collapsed": false,
     "input": [
      "u_m = np.loadtxt('dat.asc') * c**2 / h**3\n",
      "plt.plot(t, u_gf)\n",
      "plt.plot(t, u_m)"
     ],
     "language": "python",
     "metadata": {},
     "outputs": [
      {
       "metadata": {},
       "output_type": "pyout",
       "prompt_number": 107,
       "text": [
        "[<matplotlib.lines.Line2D at 0x7fc58dd25650>]"
       ]
      },
      {
       "metadata": {},
       "output_type": "display_data",
       "png": "[encoded data removed]",
       "text": [
        "<matplotlib.figure.Figure at 0x7fc58dd255d0>"
       ]
      }
     ],
     "prompt_number": 107
    },
    {
     "cell_type": "code",
     "collapsed": false,
     "input": [
      "err = norm(u_m-u_gf)/norm(u_gf)*100.0\n",
      "print 'Error: %s %% -> shift h/2 upward' % err"
     ],
     "language": "python",
     "metadata": {},
     "outputs": [
      {
       "output_type": "stream",
       "stream": "stdout",
       "text": [
        "Error: 11.0365188586 % -> shift h/2 upward\n"
       ]
      }
     ],
     "prompt_number": 108
    },
    {
     "cell_type": "code",
     "collapsed": false,
     "input": [
      "oz = -h/2\n",
      "madagascar('y')\n",
      "u_m = np.loadtxt('dat.asc') * c**2 / h**3\n",
      "err = norm(u_m-u_gf)/norm(u_gf)*100.0\n",
      "print 'Error: %s %% -> shift h/2 downward' % err"
     ],
     "language": "python",
     "metadata": {},
     "outputs": [
      {
       "output_type": "stream",
       "stream": "stdout",
       "text": [
        "sfmath > vel.rsf output=4000.0 n1=100 n2=200 n3=200 d1=10.0 d2=10.0 d3=10.0 o2=-500 o3=-500 o1=-5.0\n",
        "sfawefd3d < impulse.rsf vel=vel.rsf sou=sou.rsf rec=rec.rsf > dat.rsf verb=y free=y expl=n snap=y dabc=y jdata=1 jsnap=80000 nbell=1 sinc=y"
       ]
      },
      {
       "output_type": "stream",
       "stream": "stdout",
       "text": [
        "\n",
        "Error: 36.3814244595 % -> shift h/2 downward"
       ]
      },
      {
       "output_type": "stream",
       "stream": "stdout",
       "text": [
        "\n"
       ]
      }
     ],
     "prompt_number": 109
    },
    {
     "cell_type": "code",
     "collapsed": false,
     "input": [
      "oz = 0.0\n",
      "madagascar('y')\n",
      "u_m = np.loadtxt('dat.asc') * c**2 / h**3\n",
      "err = norm(u_m-u_gf)/norm(u_gf)*100.0\n",
      "print 'Error: %s %% -> no shift' % err"
     ],
     "language": "python",
     "metadata": {},
     "outputs": [
      {
       "output_type": "stream",
       "stream": "stdout",
       "text": [
        "sfmath > vel.rsf output=4000.0 n1=100 n2=200 n3=200 d1=10.0 d2=10.0 d3=10.0 o2=-500 o3=-500 o1=0.0\n",
        "sfawefd3d < impulse.rsf vel=vel.rsf sou=sou.rsf rec=rec.rsf > dat.rsf verb=y free=y expl=n snap=y dabc=y jdata=1 jsnap=80000 nbell=1 sinc=y"
       ]
      },
      {
       "output_type": "stream",
       "stream": "stdout",
       "text": [
        "\n",
        "Error: 24.2074314133 % -> no shift"
       ]
      },
      {
       "output_type": "stream",
       "stream": "stdout",
       "text": [
        "\n"
       ]
      }
     ],
     "prompt_number": 110
    },
    {
     "cell_type": "code",
     "collapsed": false,
     "input": [],
     "language": "python",
     "metadata": {},
     "outputs": [],
     "prompt_number": 110
    },
    {
     "cell_type": "code",
     "collapsed": false,
     "input": [],
     "language": "python",
     "metadata": {},
     "outputs": [],
     "prompt_number": 110
    },
    {
     "cell_type": "code",
     "collapsed": false,
     "input": [],
     "language": "python",
     "metadata": {},
     "outputs": [],
     "prompt_number": 110
    }
   ],
   "metadata": {}
  }
 ]
}